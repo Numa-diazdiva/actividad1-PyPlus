{
 "cells": [
  {
   "cell_type": "markdown",
   "id": "14df4a10",
   "metadata": {},
   "source": [
    "# Actividad 1 por Python plus\n"
   ]
  },
  {
   "cell_type": "markdown",
   "id": "eb80dfd8",
   "metadata": {},
   "source": [
    "## Parte I\n",
    "\n",
    "### Solución propuesta por tu compañero/a\n"
   ]
  },
  {
   "cell_type": "markdown",
   "id": "b2c22533",
   "metadata": {},
   "source": [
    "### -- Copiá acá el enunciado a corregir --\n",
    "\n",
    "EJERCICIO 13: dado el archivo denominado TOTAL_nuevo.csv que contiene la actividad real-\n",
    "izada en las clases de la materia a través de catedras.linti, se desea imprimir los tres usuarios con\n",
    "mayor actividad en el curso.\n",
    "\n",
    "URL: https://drive.google.com/file/d/1kEzmNW2soJtZlpnKHvju_3QZc58oyvFj/view?usp=sharing"
   ]
  },
  {
   "cell_type": "code",
   "execution_count": null,
   "id": "ced69cb2",
   "metadata": {
    "scrolled": true
   },
   "outputs": [],
   "source": [
    "#Solución prppuesta por tu compañero/a\n",
    "\n",
    "#Solución //Bruno Pestana Carrusca// (dejo mi nombre por las dudas!)\n",
    "import csv\n",
    "from collections import Counter\n",
    "\n",
    "\n",
    "ruta_archivo = 'C:\\\\Users\\\\Bruno\\\\OneDrive\\\\Escritorio\\\\Facultadf\\\\sem-py\\\\Python\\\\Actividades\\\\Actividad 1\\\\TOTAL_nuevo.csv'\n",
    "\n",
    "archivo = open(ruta_archivo,\"r\", encoding='utf8')\n",
    "\n",
    "csvreader = csv.reader(archivo, delimiter=',')\n",
    "encabezado = next(csvreader)\n",
    "\n",
    "def filtrar():\n",
    "    lista_usuarios=[]\n",
    "    for linea in csvreader:\n",
    "        lista_usuarios.append(linea[1])\n",
    "    return lista_usuarios\n",
    "\n",
    "def imprimir_3(list,c):\n",
    "    mas_comunes = c.most_common(3)\n",
    "    print('Los mas comunes fueron')\n",
    "    for i in range(3):\n",
    "        print(f'{mas_comunes[i][0]:<18}')\n",
    "\n",
    "\n",
    "\n",
    "lista_us = filtrar()\n",
    "c = Counter(lista_us)\n",
    "imprimir_3(lista_us,c)"
   ]
  },
  {
   "cell_type": "markdown",
   "id": "1eae6299",
   "metadata": {},
   "source": [
    "## Parte II "
   ]
  },
  {
   "cell_type": "markdown",
   "id": "4e9717da",
   "metadata": {},
   "source": [
    "### Calificá de acuerdo a las siguientes pautas:"
   ]
  },
  {
   "cell_type": "code",
   "execution_count": null,
   "id": "2762a6c2",
   "metadata": {
    "scrolled": true
   },
   "outputs": [],
   "source": [
    "# Puntos acumulados del trabajo de mi conpañero/a\n",
    "puntos_parte_I = 0"
   ]
  },
  {
   "cell_type": "markdown",
   "id": "fb152d91",
   "metadata": {},
   "source": [
    "1.- **¿El algoritmo para el procesamiento de datos es correcto?:** +5 puntos\n",
    "\n",
    "- Suma 5 puntos si, inpendientemente si define una función o guarda los datos en un archivo como lo pide el enunciado.\n"
   ]
  },
  {
   "cell_type": "code",
   "execution_count": null,
   "id": "00a9cdca",
   "metadata": {
    "scrolled": true
   },
   "outputs": [],
   "source": [
    "# El procesamiento de datos es correcto. Utiliza funciones. Obtiene el usuario que más registros de actividad tuvo correctamente (contando su cantidad de apariciones).\n",
    "# puntos a sumar de esta consigna:\n",
    "puntos_parte_I += 5"
   ]
  },
  {
   "cell_type": "markdown",
   "id": "43ba367c",
   "metadata": {},
   "source": [
    "2.-**¿Define la función o genera el archivo de acuerdo a lo pedido??**: +10 puntos\n",
    "\n",
    "- Suma 5 puntos: si lo hace pero presenta algún error.\n",
    "\n",
    "- Suma 10 puntos: si está correcto"
   ]
  },
  {
   "cell_type": "code",
   "execution_count": null,
   "id": "e3963e5d",
   "metadata": {
    "scrolled": true
   },
   "outputs": [],
   "source": [
    "# puntos a sumar de esta consigna:\n",
    "puntos_parte_I += 10"
   ]
  },
  {
   "cell_type": "markdown",
   "id": "e619052f",
   "metadata": {},
   "source": [
    "3.- **Sobre el acceso al archivo de datos:** -10  a 5 puntos\n",
    "\n",
    "- Descuento 5 puntos si lo abre utilizando una ruta absoluta (ejemplo: /home/archivo/archivo.csv)\n",
    "- Descuento 5 puntos si no se cierra el archivo.\n",
    "- Suma 5 puntos si usa adecuadamente la sentencia with."
   ]
  },
  {
   "cell_type": "code",
   "execution_count": null,
   "id": "b55c9896",
   "metadata": {
    "scrolled": true
   },
   "outputs": [],
   "source": [
    "# abre el archivo utilizando una ruta absoluta\n",
    "# no se cierra el archivo\n",
    "# puntos a sumar de esta consigna:\n",
    "puntos_parte_I -= 10"
   ]
  },
  {
   "cell_type": "markdown",
   "id": "1670ee4b",
   "metadata": {},
   "source": [
    "4.- **Alguna otra falla o detalles que quieras marcar?**: - 5 puntos\n",
    "\n",
    "- Especificá cuál es el error que encontrás"
   ]
  },
  {
   "cell_type": "code",
   "execution_count": null,
   "id": "1e985faa",
   "metadata": {
    "scrolled": true
   },
   "outputs": [],
   "source": [
    "# Revisando la solución propuesta encontré algunos detalles que se podrían mejorar -de todas formas no sé si cuentan como errores porque el programa funciona-:\n",
    "\n",
    "# El módulo \"imprimir_3\" recibe la lista filtrada y el counter, pero no utiliza la lista (está de más este parámetro). No la utiliza porque no \n",
    "# es necesario -previamente ya la pasó por parámetro al counter cuando lo creó-.\n",
    "\n",
    "# puntos a descontar de esta consigna:\n",
    "puntos_parte_I -= 5\n",
    "\n"
   ]
  },
  {
   "cell_type": "markdown",
   "id": "50b1c6fc",
   "metadata": {},
   "source": [
    "### Total de puntos de la actividad (parte I):"
   ]
  },
  {
   "cell_type": "code",
   "execution_count": null,
   "id": "afbe1851",
   "metadata": {
    "scrolled": true
   },
   "outputs": [],
   "source": [
    "print(f\"Puntos actividad 1 - Parte I: {puntos_parte_I if puntos_parte_I >0 else 0}\")"
   ]
  },
  {
   "cell_type": "markdown",
   "id": "34aa40a5",
   "metadata": {},
   "source": [
    "### ¿Algo más que no fue considerado?"
   ]
  },
  {
   "cell_type": "markdown",
   "id": "1e1f3415",
   "metadata": {},
   "source": [
    "El módulo filtrar() podría recibir el reader como parámetro y no accediendo directamente a una variable por fuera de él. De esta forma se\n",
    "incrementa la reusabilidad del módulo."
   ]
  },
  {
   "cell_type": "markdown",
   "id": "dc26afe2",
   "metadata": {},
   "source": [
    "## Parte II - Total 40 puntos"
   ]
  },
  {
   "cell_type": "code",
   "execution_count": null,
   "id": "a397db33",
   "metadata": {
    "scrolled": true
   },
   "outputs": [],
   "source": [
    "# Puntos acumulados de mi parte II- A COMPLETAR POR LA CATEDRA\n",
    "puntos_parte_II = 0"
   ]
  },
  {
   "cell_type": "markdown",
   "id": "93b1dce8",
   "metadata": {},
   "source": [
    "### Corrección de la parte I de mi compañero/a: 10 puntos\n",
    "\n",
    "- Suma 10 puntos si la evaluación realizada es correcta.\n",
    "- Suma 5 puntos si la sección de arhivos está mal evaluada pero el resto es correcta.\n",
    "- Suma 5 puntos si la sección está bien evalauda pero el resto no. "
   ]
  },
  {
   "cell_type": "code",
   "execution_count": null,
   "id": "8ebab756",
   "metadata": {
    "scrolled": true
   },
   "outputs": [],
   "source": [
    "# Sumo puntos de la sección - A COMPLETAR POR LA CATEDRA\n",
    "puntos_parte_II += 0"
   ]
  },
  {
   "cell_type": "markdown",
   "id": "b6836a8f",
   "metadata": {},
   "source": [
    "### Análisis de la  solución propuesta por mi compañero/a: 10 puntos"
   ]
  },
  {
   "cell_type": "markdown",
   "id": "3631026c",
   "metadata": {},
   "source": [
    "- **¿Qué estructuras de datos usa para recorrer los datos ingresados desde el archivo?** 3 puntos.\n",
    "\n",
    "    Utiliza un objeto iterable csvreader para obtener los datos del archivo abierto. Cada línea es retornada en forma de una lista de strings, de la que luego se toma una sola posición -la\n",
    "de los nombres de usuario- y se almacena en una nueva lista que contiene únicamente los nombres de usuario -uno por cada posición-. También utiliza un objeto counter (subclase de diccionario)\n",
    "para contar y almacenar los elementos de la lista en él.\n",
    "\n",
    "- **¿Usa expresiones lambda, funciones map, filter, reduce lu otra similar? ¿Están correctamente definidas?** 2 puntos.\n",
    "\n",
    "    No utiliza este tipo de expresiones y funciones.\n",
    "\n",
    "\n",
    "- **Recorre el archivo más de lo necesario para resolver el ejercicio? Justificar!!** 5 puntos si justifica.\n",
    "\n",
    "    Considero que no recorre el archivo de forma innecesaria, porque se asegura de recorrerlo una sola vez (en el módulo filtrar()) para obtener los datos que necesita, y luego realiza el \n",
    "resto del procesamiento mediante una lista pasada por un Counter.\n"
   ]
  },
  {
   "cell_type": "code",
   "execution_count": null,
   "id": "d63dc7e9",
   "metadata": {
    "scrolled": true
   },
   "outputs": [],
   "source": [
    "# Sumo puntos de la sección - A COMPLETAR POR LA CATEDRA\n",
    "puntos_parte_II += 0"
   ]
  },
  {
   "cell_type": "markdown",
   "id": "29fdc855",
   "metadata": {},
   "source": [
    "### Escribí una solución alternativa a la planteada por tu compañero/a: 20 puntos\n",
    "Esta solución será evaluada de acuerdo a las mismas pautas establecidas en este cuaderno."
   ]
  },
  {
   "cell_type": "code",
   "execution_count": 1,
   "id": "9a1bc0dc",
   "metadata": {
    "scrolled": true
   },
   "outputs": [
    {
     "name": "stdout",
     "output_type": "stream",
     "text": [
      "Los usuarios más frecuentes son: \n",
      "Usuario: EXTERNO, con 2052 registros de actividad.\n",
      "Usuario: Jynx, con 1751 registros de actividad.\n",
      "Usuario: Zubat, con 1599 registros de actividad.\n"
     ]
    }
   ],
   "source": [
    "import csv\n",
    "from collections import Counter\n",
    "\n",
    "#  Abro el archivo con la ruta relativa, asumiendo que está en la misma carpeta\n",
    "arch = open('TOTAL_nuevo.csv', 'r')\n",
    "#  Instancio el lector csv y remuevo el encabezado del archivo, guardándolo en caso de que sea necesario.\n",
    "lector = csv.reader(arch)\n",
    "encabezado = lector.__next__()\n",
    "\n",
    "\n",
    "def obtener_usuarios_frecuentes(lect):\n",
    "    # Utilizo la sintaxis de lista por comprensión para guardar únicamente el string de cada nombre de usuario en una nueva lista\n",
    "    lista_usuarios_reducida = [usuario[1] for usuario in lect]\n",
    "    # Creo un contador y llamo al método que me retorna una tupla con los ítems que más veces aparecen y cuántas veces aparecen\n",
    "    contador = Counter(lista_usuarios_reducida)\n",
    "    usuarios_mas_frecuentes = contador.most_common(3)\n",
    "    return usuarios_mas_frecuentes\n",
    "\n",
    "\n",
    "mas_frecuentes = obtener_usuarios_frecuentes(lector)\n",
    "\n",
    "# Imprimo los usuarios más frecuentes y la cantidad de apariciones que tuvo cada uno\n",
    "print('Los usuarios más frecuentes son: ')\n",
    "for usuario in mas_frecuentes:\n",
    "    print(f'Usuario: {usuario[0]}, con {usuario[1]} registros de actividad.')\n",
    "\n",
    "\n",
    "arch.close()"
   ]
  },
  {
   "cell_type": "code",
   "execution_count": null,
   "id": "b61dae7c",
   "metadata": {
    "scrolled": true
   },
   "outputs": [],
   "source": [
    "# Sumo puntos de la sección - A COMPLETAR POR LA CATEDRA\n",
    "puntos_parte_II += 0"
   ]
  },
  {
   "cell_type": "markdown",
   "id": "b0ba1701",
   "metadata": {},
   "source": [
    "### Total puntos de la actividad"
   ]
  },
  {
   "cell_type": "code",
   "execution_count": null,
   "id": "8248b652",
   "metadata": {
    "scrolled": true
   },
   "outputs": [],
   "source": [
    "print(f\"Puntos actividad 1 - Parte II: {puntos_parte_II if puntos_parte_II >0 else 0}\")"
   ]
  }
 ],
 "metadata": {
  "kernelspec": {
   "display_name": "Python 3 (ipykernel)",
   "language": "python",
   "name": "python3"
  },
  "language_info": {
   "codemirror_mode": {
    "name": "ipython",
    "version": 3
   },
   "file_extension": ".py",
   "mimetype": "text/x-python",
   "name": "python",
   "nbconvert_exporter": "python",
   "pygments_lexer": "ipython3",
   "version": "3.10.2"
  }
 },
 "nbformat": 4,
 "nbformat_minor": 5
}
