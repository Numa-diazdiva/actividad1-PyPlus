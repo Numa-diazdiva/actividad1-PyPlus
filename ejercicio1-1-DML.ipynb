{
 "cells": [
  {
   "cell_type": "markdown",
   "id": "b015a19f",
   "metadata": {},
   "source": [
    "# Actividad 1 por Python plus\n",
    "Díaz Manuel Lautaro"
   ]
  },
  {
   "cell_type": "markdown",
   "id": "b0d0ad1d",
   "metadata": {},
   "source": [
    "## Parte I: resolvé el siguiente desafío:"
   ]
  },
  {
   "cell_type": "markdown",
   "id": "62d05628",
   "metadata": {},
   "source": [
    "EJERCICIO 24: dado el archivo denominado [Pokemon.csv](https://archivos.linti.unlp.edu.ar/index.php/s/l0v1FI2FlSKpVnK) que contiene datos sobre pokemones, se desea generar un archivo con aquellos pokemones de las generaciones 1 y 2 (Generation) cuyo nombre esté compuesta por más de una palabra y el valor total (Total) sea menor a 500.\n",
    "\n",
    "Incluir el código de invocación a la función donde se pueda probar la misma. "
   ]
  },
  {
   "cell_type": "markdown",
   "id": "53f903e1",
   "metadata": {},
   "source": [
    "## Resolución\n",
    "Primero abro el archivo pokemones.csv en modo lectura y lo asigno a una variable. Luego, creo un lector csv y le paseo el archivo que abrí."
   ]
  },
  {
   "cell_type": "code",
   "execution_count": 1,
   "id": "5021bb7c",
   "metadata": {},
   "outputs": [],
   "source": [
    "import csv\n",
    "\n",
    "arch_pokemones = open('Pokemon.csv', 'r')\n",
    "lector = csv.reader(arch_pokemones, delimiter=\",\")"
   ]
  },
  {
   "cell_type": "markdown",
   "id": "2ef49138",
   "metadata": {},
   "source": [
    "A continuación, leo el encabezado, para separarlo del resto de las filas del contenido del archivo. Lo imprimo para tenerlo de referencia y lo asigno a una variable para luego escribirlo cuando genere el archivo final."
   ]
  },
  {
   "cell_type": "code",
   "execution_count": 2,
   "id": "51ca9b70",
   "metadata": {},
   "outputs": [
    {
     "name": "stdout",
     "output_type": "stream",
     "text": [
      "['#', 'Name', 'Type 1', 'Type 2', 'Total', 'HP', 'Attack', 'Defense', 'Sp. Atk', 'Sp. Def', 'Speed', 'Generation', 'Legendary']\n"
     ]
    }
   ],
   "source": [
    "encabezado = lector.__next__()\n",
    "print(encabezado)"
   ]
  },
  {
   "cell_type": "markdown",
   "id": "ca0d3bc9",
   "metadata": {},
   "source": [
    "## Genero la lista filtrada - versión 1\n",
    "\n",
    "Implemento una función que me permita recibir el lector y filtrar las filas del archivo según las condiciones solicitadas en la consigna. Elegí usar el filter en varias instancias para que fuera más claro el proceso (primero filtrando por género, luego por nombre y luego por total de pokemones).\n",
    "En este caso considero los nombres que usan cammelcase como nombres que tienen dos palabras, por lo que utilizo un slice para descartar la primera mayúscula del nombre y luego preguntar si el resto del nombre está en lower. En caso de que no, esto se debe a que el nombre tiene dos palabras y en ese caso lo agrego a la nueva lista."
   ]
  },
  {
   "cell_type": "code",
   "execution_count": 3,
   "id": "748faf44",
   "metadata": {},
   "outputs": [
    {
     "name": "stdout",
     "output_type": "stream",
     "text": [
      "[['15', 'BeedrillMega Beedrill', 'Bug', 'Poison', '495', '65', '150', '40', '15', '80', '145', '1', 'False'], ['122', 'Mr. Mime', 'Psychic', 'Fairy', '460', '40', '45', '65', '100', '120', '90', '1', 'False'], ['302', 'SableyeMega Sableye', 'Dark', 'Ghost', '480', '50', '85', '125', '85', '115', '20', '3', 'False'], ['303', 'MawileMega Mawile', 'Steel', 'Fairy', '480', '50', '105', '125', '55', '95', '50', '3', 'False'], ['413', 'WormadamPlant Cloak', 'Bug', 'Grass', '424', '60', '59', '85', '79', '105', '36', '4', 'False'], ['413', 'WormadamSandy Cloak', 'Bug', 'Ground', '424', '60', '79', '105', '59', '85', '36', '4', 'False'], ['413', 'WormadamTrash Cloak', 'Bug', 'Steel', '424', '60', '69', '95', '69', '95', '36', '4', 'False'], ['439', 'Mime Jr.', 'Psychic', 'Fairy', '310', '20', '25', '45', '70', '90', '60', '4', 'False'], ['555', 'DarmanitanStandard Mode', 'Fire', '', '480', '105', '140', '55', '30', '55', '95', '5', 'False'], ['678', 'MeowsticMale', 'Psychic', '', '466', '74', '48', '76', '83', '81', '104', '6', 'False'], ['678', 'MeowsticFemale', 'Psychic', '', '466', '74', '48', '76', '83', '81', '104', '6', 'False'], ['710', 'PumpkabooAverage Size', 'Ghost', 'Grass', '335', '49', '66', '70', '44', '55', '51', '6', 'False'], ['710', 'PumpkabooSmall Size', 'Ghost', 'Grass', '335', '44', '66', '70', '44', '55', '56', '6', 'False'], ['710', 'PumpkabooLarge Size', 'Ghost', 'Grass', '335', '54', '66', '70', '44', '55', '46', '6', 'False'], ['710', 'PumpkabooSuper Size', 'Ghost', 'Grass', '335', '59', '66', '70', '44', '55', '41', '6', 'False'], ['711', 'GourgeistAverage Size', 'Ghost', 'Grass', '494', '65', '90', '122', '58', '75', '84', '6', 'False'], ['711', 'GourgeistSmall Size', 'Ghost', 'Grass', '494', '55', '85', '122', '58', '75', '99', '6', 'False'], ['711', 'GourgeistLarge Size', 'Ghost', 'Grass', '494', '75', '95', '122', '58', '75', '69', '6', 'False'], ['711', 'GourgeistSuper Size', 'Ghost', 'Grass', '494', '85', '100', '122', '58', '75', '54', '6', 'False']]\n"
     ]
    }
   ],
   "source": [
    "def generar_lista_filtrada1(lect):\n",
    "    pokemones_cond_gen = filter(lambda x: (x[-2] == '1' or x[-2 == '2']), lect)\n",
    "    pokemones_cond_nombre = filter(lambda x: not (x[1][1:].islower()),pokemones_cond_gen)\n",
    "    pokemones_cond_total = filter(lambda x: int(x[4]) < 500, pokemones_cond_nombre)\n",
    "\n",
    "    return (list(pokemones_cond_total))\n",
    "\n",
    "lista_filtrada1 = generar_lista_filtrada1(lector)\n",
    "print(lista_filtrada1)"
   ]
  },
  {
   "cell_type": "markdown",
   "id": "93f1f953",
   "metadata": {},
   "source": [
    "## Genero la lista filtrada - versión 2\n",
    "\n",
    "En este caso, para evaluar la condición de los nombres, elijo preguntar por la presencia de dos palabras separadas por un espacio (en lugar de considerar el cammelcase). Para ello, utilizo un split sobre el segundo elemento de cada línea y evalúo con la función lambda  en el filter si la longitud de esta nueva lista generada por el split es mayor a 1.\n",
    "Los resultados son similares porque los nombres que usan cammelcase en general tienen otra palabra separada por un espacio en ellos.\n"
   ]
  },
  {
   "cell_type": "code",
   "execution_count": null,
   "id": "4d0212a0",
   "metadata": {},
   "outputs": [],
   "source": [
    "def generar_lista_filtrada2(lect):\n",
    "    pokemones_cond_gen = filter(lambda x: (x[-2] == '1' or x[-2 == '2']), lect)\n",
    "    pokemones_cond_nombre = filter(lambda x: len(x[1].split()) > 1,pokemones_cond_gen)\n",
    "    pokemones_cond_total = filter(lambda x: int(x[4]) < 500, pokemones_cond_nombre)\n",
    "\n",
    "    return (list(pokemones_cond_total))\n",
    "\n",
    "lista_filtrada2 = generar_lista_filtrada2(lector)\n",
    "print(lista_filtrada2)"
   ]
  },
  {
   "cell_type": "markdown",
   "id": "8d960dc1",
   "metadata": {},
   "source": [
    "### Escribo el contenido de la nueva lista en un archivo csv "
   ]
  },
  {
   "cell_type": "code",
   "execution_count": 4,
   "id": "d948fc44",
   "metadata": {},
   "outputs": [],
   "source": [
    "# abro el archivo final en modo w, de esta forma lo puedo sobreescribir en cada prueba\n",
    "archivo_final = open(\"pokemones_filtrados.csv\",'w',encoding='utf-8')\n",
    "\n",
    "writer = csv.writer(archivo_final)\n",
    "writer.writerow(encabezado)\n",
    "for linea in lista_filtrada1:\n",
    "    writer.writerow(linea)\n",
    "\n",
    "arch_pokemones.close()\n",
    "archivo_final.close()"
   ]
  }
 ],
 "metadata": {
  "kernelspec": {
   "display_name": "Python 3 (ipykernel)",
   "language": "python",
   "name": "python3"
  },
  "language_info": {
   "codemirror_mode": {
    "name": "ipython",
    "version": 3
   },
   "file_extension": ".py",
   "mimetype": "text/x-python",
   "name": "python",
   "nbconvert_exporter": "python",
   "pygments_lexer": "ipython3",
   "version": "3.10.2"
  }
 },
 "nbformat": 4,
 "nbformat_minor": 5
}
